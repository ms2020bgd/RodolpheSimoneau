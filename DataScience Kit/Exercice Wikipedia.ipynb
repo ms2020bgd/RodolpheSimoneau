{
 "cells": [
  {
   "cell_type": "code",
   "execution_count": 9,
   "metadata": {},
   "outputs": [],
   "source": [
    "import wikipedia\n",
    "from bs4 import BeautifulSoup\n",
    "import requests \n",
    "import urllib"
   ]
  },
  {
   "cell_type": "code",
   "execution_count": 10,
   "metadata": {},
   "outputs": [],
   "source": [
    "start_url = \"https://fr.wikipedia.org/wiki/Barack_Obama\"\n",
    "target_url = \"https://fr.wikipedia.org/wiki/Philosophie\""
   ]
  },
  {
   "cell_type": "code",
   "execution_count": 11,
   "metadata": {},
   "outputs": [
    {
     "name": "stdout",
     "output_type": "stream",
     "text": [
      "https://fr.wikipedia.org/wiki/Barack_Obama\n",
      "https://fr.wikipedia.org/wiki/Honolulu\n",
      "https://fr.wikipedia.org/wiki/Anglais_am%C3%A9ricain\n",
      "https://fr.wikipedia.org/wiki/Anglais\n",
      "https://fr.wikipedia.org/wiki/Langue\n",
      "https://fr.wikipedia.org/wiki/Syst%C3%A8me\n",
      "https://fr.wikipedia.org/wiki/Ensemble\n",
      "https://fr.wikipedia.org/wiki/Math%C3%A9matiques\n",
      "https://fr.wikipedia.org/wiki/Connaissance\n",
      "https://fr.wikipedia.org/wiki/Notion\n",
      "https://fr.wikipedia.org/wiki/Esprit\n",
      "https://fr.wikipedia.org/wiki/Ph%C3%A9nom%C3%A8ne\n",
      "https://fr.wikipedia.org/wiki/Chose_(philosophie)\n",
      "We've found the target article!\n"
     ]
    }
   ],
   "source": [
    "#fonction qui cherche le premier lien dans une url wikipedia \n",
    "def find_first_link(url):\n",
    "    response = requests.get(url) \n",
    "    html = response.text\n",
    "    soup = BeautifulSoup(html, \"html.parser\")\n",
    "    \n",
    "    content_div = soup.find(id=\"mw-content-text\").find(class_=\"mw-parser-output\")\n",
    "    article_link = None\n",
    "    for element in content_div.find_all(\"p\",recursive=False):\n",
    "        if element.find(\"a\",recursive=False):\n",
    "            article_link = element.find(\"a\",recursive=False).get('href')\n",
    "            break\n",
    "    if not article_link:\n",
    "        return\n",
    "    first_link = urllib.parse.urljoin('https://fr.wikipedia.org',article_link)\n",
    "    return first_link\n",
    "\n",
    "def continue_crawl(search_history, target_url, max_steps=25):\n",
    "    if search_history[-1] == target_url:\n",
    "        print(\"We've found the target article!\")\n",
    "        return False\n",
    "    elif len(search_history) > max_steps:\n",
    "        print(\"The search has gone on suspiciously long, aborting search!\")\n",
    "        return False\n",
    "    elif search_history[-1] in search_history[:-1]:\n",
    "        print(\"We've arrived at an article we've already seen, aborting search!\")\n",
    "        return False\n",
    "    else:\n",
    "        return True \n",
    "\n",
    "article_chain = [start_url]\n",
    "\n",
    "while continue_crawl(article_chain, target_url):\n",
    "    print(article_chain[-1])\n",
    "\n",
    "    first_link = find_first_link(article_chain[-1])\n",
    "    if not first_link:\n",
    "        print(\"We've arrived at an article with no links, aborting search!\")\n",
    "        break\n",
    "\n",
    "    article_chain.append(first_link)\n",
    "        \n",
    "    "
   ]
  },
  {
   "cell_type": "code",
   "execution_count": null,
   "metadata": {},
   "outputs": [],
   "source": []
  }
 ],
 "metadata": {
  "kernelspec": {
   "display_name": "Python 3",
   "language": "python",
   "name": "python3"
  },
  "language_info": {
   "codemirror_mode": {
    "name": "ipython",
    "version": 3
   },
   "file_extension": ".py",
   "mimetype": "text/x-python",
   "name": "python",
   "nbconvert_exporter": "python",
   "pygments_lexer": "ipython3",
   "version": "3.7.3"
  }
 },
 "nbformat": 4,
 "nbformat_minor": 2
}
